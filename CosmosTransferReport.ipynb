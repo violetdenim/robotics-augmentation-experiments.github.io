{
 "cells": [
  {
   "cell_type": "code",
   "execution_count": null,
   "id": "3378488d",
   "metadata": {},
   "outputs": [],
   "source": [
    "import os\n",
    "from ipywidgets import Output, GridspecLayout\n",
    "from IPython import display\n",
    "\n",
    "def parse_experiment_parameters(experiment_folder):\n",
    "    start_frame, fps, duration = map(int, experiment_folder.split('_')[-4:-1])\n",
    "    return {\"start_frame\": start_frame, \"fps\": fps, \"duration\": duration}\n",
    "\n",
    "def select_experiment(experiment_folders, fields_and_values):\n",
    "    selection = []\n",
    "    for experiment_folder in experiment_folders:\n",
    "        params = parse_experiment_parameters(experiment_folder)\n",
    "        is_fine = True\n",
    "        for field, normal_values_list in fields_and_values.items():\n",
    "            if params[field] not in normal_values_list:\n",
    "                is_fine = False\n",
    "                break\n",
    "        if is_fine:\n",
    "            selection.append(experiment_folder)\n",
    "    return selection\n",
    "              \n",
    "\n",
    "def present_experiments(experiments, embed=False, omit_source=False):\n",
    "    grid = GridspecLayout(len(experiments), 2 if omit_source else 3)\n",
    "\n",
    "    for i, experiment_folder in enumerate(experiments):\n",
    "        if not omit_source:\n",
    "            input_video = f'./{experiment_folder}/rgb_converted.mp4'\n",
    "            if not os.path.exists(input_video):\n",
    "                os.system(f\"ffmpeg -i ./{experiment_folder}/rgb.mp4 -vcodec libx264 -acodec aac ./{experiment_folder}/rgb_converted.mp4\")\n",
    "            assert(os.path.exists(input_video))\n",
    "            \n",
    "        output_video = f'./{experiment_folder}/output/output.mp4'\n",
    "        assert(os.path.exists(output_video))\n",
    "        \n",
    "        out = Output()\n",
    "        with out:\n",
    "            props = parse_experiment_parameters(experiment_folder)\n",
    "            prop_str = \", \". join(f\"*{k}* = {v}\" for k, v in props.items())\n",
    "            with open(f'./{experiment_folder}/output/output.txt') as f:\n",
    "                prompt = f.read()\n",
    "            display.display(display.Markdown(prop_str + f\"\\n\\n*prompt*={prompt}\"))\n",
    "        grid[i, 0] = out\n",
    "        \n",
    "        if not omit_source:\n",
    "            out = Output()\n",
    "            with out:\n",
    "                display.display(display.Video(input_video, embed=embed))\n",
    "            grid[i, 1] = out\n",
    "        out = Output()\n",
    "        with out:\n",
    "            display.display(display.Video(output_video, embed=embed))\n",
    "        grid[i, 1 if omit_source else 2] = out\n",
    "    return grid\n",
    "        \n",
    "experiment_folders = ['2024_08_15__19_55_49_0_4_2_full',\n",
    " '2024_08_15__19_55_49_6000_4_2_full',\n",
    " '2024_08_15__19_55_49_0_4_4_full',\n",
    " '2024_08_15__19_55_49_6000_4_4_full',\n",
    " '2024_08_15__19_55_49_0_4_8_full',\n",
    " '2024_08_15__19_55_49_6000_4_8_full',\n",
    " '2024_08_15__19_55_49_0_30_2_full',\n",
    " '2024_08_15__19_55_49_6000_30_2_full',\n",
    " '2024_08_15__19_55_49_0_30_4_full',\n",
    " '2024_08_15__19_55_49_6000_30_4_full',\n",
    " '2024_08_15__19_55_49_0_30_8_full',\n",
    " '2024_08_15__19_55_49_6000_30_8_full',\n",
    " '2024_08_15__19_55_49_12000_4_2_full',\n",
    " '2024_08_15__19_55_49_12000_4_4_full',\n",
    " '2024_08_15__19_55_49_12000_4_8_full',\n",
    " '2024_08_15__19_55_49_12000_30_2_full',\n",
    " '2024_08_15__19_55_49_12000_30_4_full',\n",
    " '2024_08_15__19_55_49_12000_30_8_full',\n",
    " '2024_08_15__19_55_49_18000_4_2_full',\n",
    " '2024_08_15__19_55_49_18000_4_4_full',\n",
    " '2024_08_15__19_55_49_18000_4_8_full',\n",
    " '2024_08_15__19_55_49_18000_30_2_full',\n",
    " '2024_08_15__19_55_49_18000_30_4_full',\n",
    " '2024_08_15__19_55_49_18000_30_8_full']"
   ]
  },
  {
   "cell_type": "code",
   "execution_count": 27,
   "id": "2fa11926",
   "metadata": {},
   "outputs": [],
   "source": [
    "def export_experiments(experiments, out_html, pad=False, title=None):\n",
    "    with open(out_html, 'a' if pad else 'w') as f:\n",
    "        print('''<table><thead>  <meta charset=\"UTF-8\"><style>\n",
    "            table {\n",
    "            width: 100vw;\n",
    "            height: 100vh;\n",
    "            border-collapse: collapse;\n",
    "            table-layout: fixed; /* Ensures equal-width columns */\n",
    "            }\n",
    "\n",
    "            td {\n",
    "            border: 1px solid #ccc;\n",
    "            width: 50%; /* Adjust as needed */\n",
    "            height: auto;\n",
    "            padding: 10px;\n",
    "            vertical-align: top;\n",
    "            }\n",
    "\n",
    "            .video-container {\n",
    "            position: relative;\n",
    "            width: 100%;\n",
    "            padding-top: 56.25%; /* 16:9 aspect ratio */\n",
    "            }\n",
    "\n",
    "            .video-container iframe,\n",
    "            .video-container video {\n",
    "            position: absolute;\n",
    "            top: 0;\n",
    "            left: 0;\n",
    "            width: 100%;\n",
    "            height: 100%;\n",
    "            }</style>''', file=f)\n",
    "        if title is not None:\n",
    "            print(f'<h1 style=\"text-align:center;\">{title}</h1>', file=f)\n",
    "        print('<tr><th>Info</th><th>Input</th><th>Output</th></tr></thead>', file=f)\n",
    "        print('<tbody>', file=f)\n",
    "        for experiment_folder in experiments:\n",
    "            print('<tr>', file=f)\n",
    "            input_video = f'./{experiment_folder}/rgb_converted.mp4'\n",
    "            if not os.path.exists(input_video):\n",
    "                os.system(f\"ffmpeg -i ./{experiment_folder}/rgb.mp4 -vcodec libx264 -acodec aac ./{experiment_folder}/rgb_converted.mp4\")\n",
    "            output_video = f'./{experiment_folder}/output/output.mp4'\n",
    "            assert(os.path.exists(input_video))\n",
    "            assert(os.path.exists(output_video))\n",
    "            \n",
    "            props = parse_experiment_parameters(experiment_folder)\n",
    "            prop_str = \", \". join(f\"<i>{k}</i> = {v}\" for k, v in props.items())\n",
    "            with open(f'./{experiment_folder}/output/output.txt') as _f:\n",
    "                prompt = _f.read()\n",
    "                \n",
    "            param_str = prop_str + f\"</p><p><i>prompt</i>={prompt}\" # markdown\n",
    "            \n",
    "            # table line with 3 items\n",
    "            item_str = f'<td><p>{param_str}</p></td>'\n",
    "            print(item_str, file=f)\n",
    "            item_str = f'<td><div class=\"video-container\"><video controls autoplay><source src={input_video} type=\"video/mp4\"></video></div></td>'\n",
    "            print(item_str, file=f)\n",
    "            item_str = f'<td><div class=\"video-container\"><video controls autoplay><source src={output_video} type=\"video/mp4\"></video></div></td>'\n",
    "            print(item_str, file=f)\n",
    "            print('</tr>', file=f)\n",
    "        print('</tbody>', file=f)\n",
    "\n",
    "is_first = True\n",
    "for fps in [30, 4]:\n",
    "    for duration in [2, 4, 8]:\n",
    "        export_experiments(select_experiment(experiment_folders, {\"fps\": [fps], \"duration\": [duration]}), 'index.html',\n",
    "                           title=f'<i>fps</i>={fps}, <i>duration</i>={duration}',\n",
    "                           pad=not is_first)\n",
    "        is_first = False\n"
   ]
  },
  {
   "cell_type": "code",
   "execution_count": 9,
   "id": "ecdb95fa",
   "metadata": {},
   "outputs": [
    {
     "data": {
      "application/vnd.jupyter.widget-view+json": {
       "model_id": "c6cfb9aa30c84389adb71a571b25a1cf",
       "version_major": 2,
       "version_minor": 0
      },
      "text/plain": [
       "GridspecLayout(children=(Output(layout=Layout(grid_area='widget001')), Output(layout=Layout(grid_area='widget0…"
      ]
     },
     "execution_count": 9,
     "metadata": {},
     "output_type": "execute_result"
    }
   ],
   "source": [
    "# results on 30 fps, short-length videos (2s)\n",
    "#fine \n",
    "present_experiments(select_experiment(experiment_folders, {\"fps\": [30], \"duration\": [2]}), embed=True)"
   ]
  },
  {
   "cell_type": "code",
   "execution_count": 10,
   "id": "e3bdde33",
   "metadata": {},
   "outputs": [
    {
     "data": {
      "application/vnd.jupyter.widget-view+json": {
       "model_id": "e9c3c68110b74344a03fba5bc1f97812",
       "version_major": 2,
       "version_minor": 0
      },
      "text/plain": [
       "GridspecLayout(children=(Output(layout=Layout(grid_area='widget001')), Output(layout=Layout(grid_area='widget0…"
      ]
     },
     "execution_count": 10,
     "metadata": {},
     "output_type": "execute_result"
    }
   ],
   "source": [
    "# results on 30 fps, medium-length videos (4s)\n",
    "# fine\n",
    "present_experiments(select_experiment(experiment_folders, {\"fps\": [30], \"duration\": [4]}), embed=True)"
   ]
  },
  {
   "cell_type": "code",
   "execution_count": 11,
   "id": "7c502b3f",
   "metadata": {},
   "outputs": [
    {
     "data": {
      "application/vnd.jupyter.widget-view+json": {
       "model_id": "767b594477534b9ca68ab2f2e121ce19",
       "version_major": 2,
       "version_minor": 0
      },
      "text/plain": [
       "GridspecLayout(children=(Output(layout=Layout(grid_area='widget001')), Output(layout=Layout(grid_area='widget0…"
      ]
     },
     "execution_count": 11,
     "metadata": {},
     "output_type": "execute_result"
    }
   ],
   "source": [
    "# results on 30 fps, large-length videos (8s)\n",
    "# hallucinations happens\n",
    "present_experiments(select_experiment(experiment_folders, {\"fps\": [30], \"duration\": [8]}), embed=True)"
   ]
  },
  {
   "cell_type": "code",
   "execution_count": 12,
   "id": "b5253f80",
   "metadata": {},
   "outputs": [
    {
     "data": {
      "application/vnd.jupyter.widget-view+json": {
       "model_id": "26eeace695dd48b4a5cdd971e91e6121",
       "version_major": 2,
       "version_minor": 0
      },
      "text/plain": [
       "GridspecLayout(children=(Output(layout=Layout(grid_area='widget001')), Output(layout=Layout(grid_area='widget0…"
      ]
     },
     "execution_count": 12,
     "metadata": {},
     "output_type": "execute_result"
    }
   ],
   "source": [
    "# results on 4 fps, short-length videos (2s)\n",
    "present_experiments(select_experiment(experiment_folders, {\"fps\": [4], \"duration\": [2]}), embed=True)"
   ]
  },
  {
   "cell_type": "code",
   "execution_count": 13,
   "id": "49c16848",
   "metadata": {},
   "outputs": [
    {
     "data": {
      "application/vnd.jupyter.widget-view+json": {
       "model_id": "78c6f5c834ef469d80c6cdbe4bd87234",
       "version_major": 2,
       "version_minor": 0
      },
      "text/plain": [
       "GridspecLayout(children=(Output(layout=Layout(grid_area='widget001')), Output(layout=Layout(grid_area='widget0…"
      ]
     },
     "execution_count": 13,
     "metadata": {},
     "output_type": "execute_result"
    }
   ],
   "source": [
    "# results on 4 fps, medium-length videos (4s)\n",
    "present_experiments(select_experiment(experiment_folders, {\"fps\": [4], \"duration\": [4]}), embed=True)"
   ]
  },
  {
   "cell_type": "code",
   "execution_count": 14,
   "id": "5f791bb9",
   "metadata": {},
   "outputs": [
    {
     "data": {
      "application/vnd.jupyter.widget-view+json": {
       "model_id": "31c12f9d41bf424285547cad3cb9360c",
       "version_major": 2,
       "version_minor": 0
      },
      "text/plain": [
       "GridspecLayout(children=(Output(layout=Layout(grid_area='widget001')), Output(layout=Layout(grid_area='widget0…"
      ]
     },
     "execution_count": 14,
     "metadata": {},
     "output_type": "execute_result"
    }
   ],
   "source": [
    "# results on 4 fps, large-length videos (8s)\n",
    "present_experiments(select_experiment(experiment_folders, {\"fps\": [4], \"duration\": [8]}), embed=True)"
   ]
  },
  {
   "cell_type": "code",
   "execution_count": 38,
   "id": "e128ba89",
   "metadata": {},
   "outputs": [
    {
     "name": "stderr",
     "output_type": "stream",
     "text": [
      "ffmpeg version 4.4.2-0ubuntu0.22.04.1 Copyright (c) 2000-2021 the FFmpeg developers\n",
      "  built with gcc 11 (Ubuntu 11.2.0-19ubuntu1)\n",
      "  configuration: --prefix=/usr --extra-version=0ubuntu0.22.04.1 --toolchain=hardened --libdir=/usr/lib/x86_64-linux-gnu --incdir=/usr/include/x86_64-linux-gnu --arch=amd64 --enable-gpl --disable-stripping --enable-gnutls --enable-ladspa --enable-libaom --enable-libass --enable-libbluray --enable-libbs2b --enable-libcaca --enable-libcdio --enable-libcodec2 --enable-libdav1d --enable-libflite --enable-libfontconfig --enable-libfreetype --enable-libfribidi --enable-libgme --enable-libgsm --enable-libjack --enable-libmp3lame --enable-libmysofa --enable-libopenjpeg --enable-libopenmpt --enable-libopus --enable-libpulse --enable-librabbitmq --enable-librubberband --enable-libshine --enable-libsnappy --enable-libsoxr --enable-libspeex --enable-libsrt --enable-libssh --enable-libtheora --enable-libtwolame --enable-libvidstab --enable-libvorbis --enable-libvpx --enable-libwebp --enable-libx265 --enable-libxml2 --enable-libxvid --enable-libzimg --enable-libzmq --enable-libzvbi --enable-lv2 --enable-omx --enable-openal --enable-opencl --enable-opengl --enable-sdl2 --enable-pocketsphinx --enable-librsvg --enable-libmfx --enable-libdc1394 --enable-libdrm --enable-libiec61883 --enable-chromaprint --enable-frei0r --enable-libx264 --enable-shared\n",
      "  libavutil      56. 70.100 / 56. 70.100\n",
      "  libavcodec     58.134.100 / 58.134.100\n",
      "  libavformat    58. 76.100 / 58. 76.100\n",
      "  libavdevice    58. 13.100 / 58. 13.100\n",
      "  libavfilter     7.110.100 /  7.110.100\n",
      "  libswscale      5.  9.100 /  5.  9.100\n",
      "  libswresample   3.  9.100 /  3.  9.100\n",
      "  libpostproc    55.  9.100 / 55.  9.100\n",
      "Input #0, mov,mp4,m4a,3gp,3g2,mj2, from './../2024_08_15__19_55_49_18000_30_4_full3/rgb.mp4':\n",
      "  Metadata:\n",
      "    major_brand     : isom\n",
      "    minor_version   : 512\n",
      "    compatible_brands: isomiso2mp41\n",
      "    encoder         : Lavf59.27.100\n",
      "  Duration: 00:00:04.00, start: 0.000000, bitrate: 6803 kb/s\n",
      "  Stream #0:0(und): Video: mpeg4 (Simple Profile) (mp4v / 0x7634706D), yuv420p, 960x600 [SAR 1:1 DAR 8:5], 6800 kb/s, 30 fps, 30 tbr, 15360 tbn, 30 tbc (default)\n",
      "    Metadata:\n",
      "      handler_name    : VideoHandler\n",
      "      vendor_id       : [0][0][0][0]\n",
      "Stream mapping:\n",
      "  Stream #0:0 -> #0:0 (mpeg4 (native) -> h264 (libx264))\n",
      "Press [q] to stop, [?] for help\n",
      "[libx264 @ 0x62c2921d6940] using SAR=1/1\n",
      "[libx264 @ 0x62c2921d6940] using cpu capabilities: MMX2 SSE2Fast SSSE3 SSE4.2 AVX FMA3 BMI2 AVX2\n",
      "[libx264 @ 0x62c2921d6940] profile High, level 3.1, 4:2:0, 8-bit\n",
      "[libx264 @ 0x62c2921d6940] 264 - core 163 r3060 5db6aa6 - H.264/MPEG-4 AVC codec - Copyleft 2003-2021 - http://www.videolan.org/x264.html - options: cabac=1 ref=3 deblock=1:0:0 analyse=0x3:0x113 me=hex subme=7 psy=1 psy_rd=1.00:0.00 mixed_ref=1 me_range=16 chroma_me=1 trellis=1 8x8dct=1 cqm=0 deadzone=21,11 fast_pskip=1 chroma_qp_offset=-2 threads=19 lookahead_threads=3 sliced_threads=0 nr=0 decimate=1 interlaced=0 bluray_compat=0 constrained_intra=0 bframes=3 b_pyramid=2 b_adapt=1 b_bias=0 direct=1 weightb=1 open_gop=0 weightp=2 keyint=250 keyint_min=25 scenecut=40 intra_refresh=0 rc_lookahead=40 rc=crf mbtree=1 crf=23.0 qcomp=0.60 qpmin=0 qpmax=69 qpstep=4 ip_ratio=1.40 aq=1:1.00\n",
      "Output #0, mp4, to './../2024_08_15__19_55_49_18000_30_4_full3/rgb_converted.mp4':\n",
      "  Metadata:\n",
      "    major_brand     : isom\n",
      "    minor_version   : 512\n",
      "    compatible_brands: isomiso2mp41\n",
      "    encoder         : Lavf58.76.100\n",
      "  Stream #0:0(und): Video: h264 (avc1 / 0x31637661), yuv420p(progressive), 960x600 [SAR 1:1 DAR 8:5], q=2-31, 30 fps, 15360 tbn (default)\n",
      "    Metadata:\n",
      "      handler_name    : VideoHandler\n",
      "      vendor_id       : [0][0][0][0]\n",
      "      encoder         : Lavc58.134.100 libx264\n",
      "    Side data:\n",
      "      cpb: bitrate max/min/avg: 0/0/0 buffer size: 0 vbv_delay: N/A\n",
      "frame=  120 fps=0.0 q=-1.0 Lsize=    1287kB time=00:00:03.90 bitrate=2702.9kbits/s speed=10.1x    \n",
      "video:1285kB audio:0kB subtitle:0kB other streams:0kB global headers:0kB muxing overhead: 0.172495%\n",
      "[libx264 @ 0x62c2921d6940] frame I:1     Avg QP:21.13  size: 16334\n",
      "[libx264 @ 0x62c2921d6940] frame P:43    Avg QP:22.55  size: 15072\n",
      "[libx264 @ 0x62c2921d6940] frame B:76    Avg QP:23.35  size:  8557\n",
      "[libx264 @ 0x62c2921d6940] consecutive B-frames: 11.7%  6.7% 15.0% 66.7%\n",
      "[libx264 @ 0x62c2921d6940] mb I  I16..4: 34.3% 63.7%  2.0%\n",
      "[libx264 @ 0x62c2921d6940] mb P  I16..4: 13.2% 34.7%  2.3%  P16..4: 29.5% 11.2%  4.1%  0.0%  0.0%    skip: 5.0%\n",
      "[libx264 @ 0x62c2921d6940] mb B  I16..4:  7.0% 11.8%  0.2%  B16..8: 44.8%  9.6%  1.4%  direct: 7.8%  skip:17.4%  L0:55.4% L1:35.4% BI: 9.2%\n",
      "[libx264 @ 0x62c2921d6940] 8x8 transform intra:66.2% inter:72.0%\n",
      "[libx264 @ 0x62c2921d6940] coded y,uvDC,uvAC intra: 26.6% 40.9% 1.4% inter: 22.9% 29.3% 0.1%\n",
      "[libx264 @ 0x62c2921d6940] i16 v,h,dc,p: 33% 32% 29%  5%\n",
      "[libx264 @ 0x62c2921d6940] i8 v,h,dc,ddl,ddr,vr,hd,vl,hu: 27% 22% 39%  2%  2%  1%  4%  1%  2%\n",
      "[libx264 @ 0x62c2921d6940] i4 v,h,dc,ddl,ddr,vr,hd,vl,hu: 26% 24% 15%  4%  7%  5% 11%  4%  4%\n",
      "[libx264 @ 0x62c2921d6940] i8c dc,h,v,p: 49% 26% 23%  1%\n",
      "[libx264 @ 0x62c2921d6940] Weighted P-Frames: Y:9.3% UV:4.7%\n",
      "[libx264 @ 0x62c2921d6940] ref P L0: 55.4% 20.7% 15.2%  8.3%  0.3%\n",
      "[libx264 @ 0x62c2921d6940] ref B L0: 85.9% 11.0%  3.1%\n",
      "[libx264 @ 0x62c2921d6940] ref B L1: 94.5%  5.5%\n",
      "[libx264 @ 0x62c2921d6940] kb/s:2629.42\n"
     ]
    },
    {
     "data": {
      "application/vnd.jupyter.widget-view+json": {
       "model_id": "110419ae62de456b862439210c2ac8c0",
       "version_major": 2,
       "version_minor": 0
      },
      "text/plain": [
       "GridspecLayout(children=(Output(layout=Layout(grid_area='widget001')), Output(layout=Layout(grid_area='widget0…"
      ]
     },
     "execution_count": 38,
     "metadata": {},
     "output_type": "execute_result"
    }
   ],
   "source": [
    "present_experiments(['../2024_08_15__19_55_49_18000_30_4_full',\n",
    "                     '../2024_08_15__19_55_49_18000_30_4_full1',\n",
    "                     '../2024_08_15__19_55_49_18000_30_4_full2',\n",
    "                     '../2024_08_15__19_55_49_18000_30_4_full3'], embed=True)\n"
   ]
  },
  {
   "cell_type": "code",
   "execution_count": 37,
   "id": "7d198ddc",
   "metadata": {},
   "outputs": [
    {
     "name": "stderr",
     "output_type": "stream",
     "text": [
      "ffmpeg version 4.4.2-0ubuntu0.22.04.1 Copyright (c) 2000-2021 the FFmpeg developers\n",
      "  built with gcc 11 (Ubuntu 11.2.0-19ubuntu1)\n",
      "  configuration: --prefix=/usr --extra-version=0ubuntu0.22.04.1 --toolchain=hardened --libdir=/usr/lib/x86_64-linux-gnu --incdir=/usr/include/x86_64-linux-gnu --arch=amd64 --enable-gpl --disable-stripping --enable-gnutls --enable-ladspa --enable-libaom --enable-libass --enable-libbluray --enable-libbs2b --enable-libcaca --enable-libcdio --enable-libcodec2 --enable-libdav1d --enable-libflite --enable-libfontconfig --enable-libfreetype --enable-libfribidi --enable-libgme --enable-libgsm --enable-libjack --enable-libmp3lame --enable-libmysofa --enable-libopenjpeg --enable-libopenmpt --enable-libopus --enable-libpulse --enable-librabbitmq --enable-librubberband --enable-libshine --enable-libsnappy --enable-libsoxr --enable-libspeex --enable-libsrt --enable-libssh --enable-libtheora --enable-libtwolame --enable-libvidstab --enable-libvorbis --enable-libvpx --enable-libwebp --enable-libx265 --enable-libxml2 --enable-libxvid --enable-libzimg --enable-libzmq --enable-libzvbi --enable-lv2 --enable-omx --enable-openal --enable-opencl --enable-opengl --enable-sdl2 --enable-pocketsphinx --enable-librsvg --enable-libmfx --enable-libdc1394 --enable-libdrm --enable-libiec61883 --enable-chromaprint --enable-frei0r --enable-libx264 --enable-shared\n",
      "  libavutil      56. 70.100 / 56. 70.100\n",
      "  libavcodec     58.134.100 / 58.134.100\n",
      "  libavformat    58. 76.100 / 58. 76.100\n",
      "  libavdevice    58. 13.100 / 58. 13.100\n",
      "  libavfilter     7.110.100 /  7.110.100\n",
      "  libswscale      5.  9.100 /  5.  9.100\n",
      "  libswresample   3.  9.100 /  3.  9.100\n",
      "  libpostproc    55.  9.100 / 55.  9.100\n",
      "Input #0, mov,mp4,m4a,3gp,3g2,mj2, from './../2024_08_15__19_55_49_18000_30_4_dptseg/rgb.mp4':\n",
      "  Metadata:\n",
      "    major_brand     : isom\n",
      "    minor_version   : 512\n",
      "    compatible_brands: isomiso2mp41\n",
      "    encoder         : Lavf59.27.100\n",
      "  Duration: 00:00:04.00, start: 0.000000, bitrate: 6803 kb/s\n",
      "  Stream #0:0(und): Video: mpeg4 (Simple Profile) (mp4v / 0x7634706D), yuv420p, 960x600 [SAR 1:1 DAR 8:5], 6800 kb/s, 30 fps, 30 tbr, 15360 tbn, 30 tbc (default)\n",
      "    Metadata:\n",
      "      handler_name    : VideoHandler\n",
      "      vendor_id       : [0][0][0][0]\n",
      "Stream mapping:\n",
      "  Stream #0:0 -> #0:0 (mpeg4 (native) -> h264 (libx264))\n",
      "Press [q] to stop, [?] for help\n",
      "[libx264 @ 0x5e31810a7940] using SAR=1/1\n",
      "[libx264 @ 0x5e31810a7940] using cpu capabilities: MMX2 SSE2Fast SSSE3 SSE4.2 AVX FMA3 BMI2 AVX2\n",
      "[libx264 @ 0x5e31810a7940] profile High, level 3.1, 4:2:0, 8-bit\n",
      "[libx264 @ 0x5e31810a7940] 264 - core 163 r3060 5db6aa6 - H.264/MPEG-4 AVC codec - Copyleft 2003-2021 - http://www.videolan.org/x264.html - options: cabac=1 ref=3 deblock=1:0:0 analyse=0x3:0x113 me=hex subme=7 psy=1 psy_rd=1.00:0.00 mixed_ref=1 me_range=16 chroma_me=1 trellis=1 8x8dct=1 cqm=0 deadzone=21,11 fast_pskip=1 chroma_qp_offset=-2 threads=19 lookahead_threads=3 sliced_threads=0 nr=0 decimate=1 interlaced=0 bluray_compat=0 constrained_intra=0 bframes=3 b_pyramid=2 b_adapt=1 b_bias=0 direct=1 weightb=1 open_gop=0 weightp=2 keyint=250 keyint_min=25 scenecut=40 intra_refresh=0 rc_lookahead=40 rc=crf mbtree=1 crf=23.0 qcomp=0.60 qpmin=0 qpmax=69 qpstep=4 ip_ratio=1.40 aq=1:1.00\n",
      "Output #0, mp4, to './../2024_08_15__19_55_49_18000_30_4_dptseg/rgb_converted.mp4':\n",
      "  Metadata:\n",
      "    major_brand     : isom\n",
      "    minor_version   : 512\n",
      "    compatible_brands: isomiso2mp41\n",
      "    encoder         : Lavf58.76.100\n",
      "  Stream #0:0(und): Video: h264 (avc1 / 0x31637661), yuv420p(progressive), 960x600 [SAR 1:1 DAR 8:5], q=2-31, 30 fps, 15360 tbn (default)\n",
      "    Metadata:\n",
      "      handler_name    : VideoHandler\n",
      "      vendor_id       : [0][0][0][0]\n",
      "      encoder         : Lavc58.134.100 libx264\n",
      "    Side data:\n",
      "      cpb: bitrate max/min/avg: 0/0/0 buffer size: 0 vbv_delay: N/A\n",
      "frame=  120 fps=0.0 q=-1.0 Lsize=    1287kB time=00:00:03.90 bitrate=2702.9kbits/s speed=9.92x    \n",
      "video:1285kB audio:0kB subtitle:0kB other streams:0kB global headers:0kB muxing overhead: 0.172495%\n",
      "[libx264 @ 0x5e31810a7940] frame I:1     Avg QP:21.13  size: 16334\n",
      "[libx264 @ 0x5e31810a7940] frame P:43    Avg QP:22.55  size: 15072\n",
      "[libx264 @ 0x5e31810a7940] frame B:76    Avg QP:23.35  size:  8557\n",
      "[libx264 @ 0x5e31810a7940] consecutive B-frames: 11.7%  6.7% 15.0% 66.7%\n",
      "[libx264 @ 0x5e31810a7940] mb I  I16..4: 34.3% 63.7%  2.0%\n",
      "[libx264 @ 0x5e31810a7940] mb P  I16..4: 13.2% 34.7%  2.3%  P16..4: 29.5% 11.2%  4.1%  0.0%  0.0%    skip: 5.0%\n",
      "[libx264 @ 0x5e31810a7940] mb B  I16..4:  7.0% 11.8%  0.2%  B16..8: 44.8%  9.6%  1.4%  direct: 7.8%  skip:17.4%  L0:55.4% L1:35.4% BI: 9.2%\n",
      "[libx264 @ 0x5e31810a7940] 8x8 transform intra:66.2% inter:72.0%\n",
      "[libx264 @ 0x5e31810a7940] coded y,uvDC,uvAC intra: 26.6% 40.9% 1.4% inter: 22.9% 29.3% 0.1%\n",
      "[libx264 @ 0x5e31810a7940] i16 v,h,dc,p: 33% 32% 29%  5%\n",
      "[libx264 @ 0x5e31810a7940] i8 v,h,dc,ddl,ddr,vr,hd,vl,hu: 27% 22% 39%  2%  2%  1%  4%  1%  2%\n",
      "[libx264 @ 0x5e31810a7940] i4 v,h,dc,ddl,ddr,vr,hd,vl,hu: 26% 24% 15%  4%  7%  5% 11%  4%  4%\n",
      "[libx264 @ 0x5e31810a7940] i8c dc,h,v,p: 49% 26% 23%  1%\n",
      "[libx264 @ 0x5e31810a7940] Weighted P-Frames: Y:9.3% UV:4.7%\n",
      "[libx264 @ 0x5e31810a7940] ref P L0: 55.4% 20.7% 15.2%  8.3%  0.3%\n",
      "[libx264 @ 0x5e31810a7940] ref B L0: 85.9% 11.0%  3.1%\n",
      "[libx264 @ 0x5e31810a7940] ref B L1: 94.5%  5.5%\n",
      "[libx264 @ 0x5e31810a7940] kb/s:2629.42\n"
     ]
    },
    {
     "data": {
      "application/vnd.jupyter.widget-view+json": {
       "model_id": "868399126f2c4b66be4d4a341a9e1d5b",
       "version_major": 2,
       "version_minor": 0
      },
      "text/plain": [
       "GridspecLayout(children=(Output(layout=Layout(grid_area='widget001')), Output(layout=Layout(grid_area='widget0…"
      ]
     },
     "execution_count": 37,
     "metadata": {},
     "output_type": "execute_result"
    }
   ],
   "source": [
    "present_experiments(['../2024_08_15__19_55_49_18000_30_4_full',\n",
    "                     '../2024_08_15__19_55_49_18000_30_4_dptonly',\n",
    "                     '../2024_08_15__19_55_49_18000_30_4_dptseg'], embed=True)"
   ]
  }
 ],
 "metadata": {
  "kernelspec": {
   "display_name": "ego_walk",
   "language": "python",
   "name": "python3"
  },
  "language_info": {
   "codemirror_mode": {
    "name": "ipython",
    "version": 3
   },
   "file_extension": ".py",
   "mimetype": "text/x-python",
   "name": "python",
   "nbconvert_exporter": "python",
   "pygments_lexer": "ipython3",
   "version": "3.11.11"
  }
 },
 "nbformat": 4,
 "nbformat_minor": 5
}
