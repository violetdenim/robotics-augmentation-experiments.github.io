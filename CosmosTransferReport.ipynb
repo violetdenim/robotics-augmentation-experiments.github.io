{
 "cells": [
  {
   "cell_type": "code",
   "execution_count": null,
   "id": "3378488d",
   "metadata": {},
   "outputs": [],
   "source": [
    "import os\n",
    "from ipywidgets import Output, GridspecLayout\n",
    "from IPython import display\n",
    "\n",
    "def parse_experiment_parameters(experiment_folder):\n",
    "    start_frame, fps, duration = map(int, experiment_folder.split('_')[-4:-1])\n",
    "    return {\"start_frame\": start_frame, \"fps\": fps, \"duration\": duration}\n",
    "\n",
    "def select_experiment(experiment_folders, fields_and_values):\n",
    "    selection = []\n",
    "    for experiment_folder in experiment_folders:\n",
    "        params = parse_experiment_parameters(experiment_folder)\n",
    "        is_fine = True\n",
    "        for field, normal_values_list in fields_and_values.items():\n",
    "            if params[field] not in normal_values_list:\n",
    "                is_fine = False\n",
    "                break\n",
    "        if is_fine:\n",
    "            selection.append(experiment_folder)\n",
    "    return selection\n",
    "              \n",
    "\n",
    "def present_experiments(experiments, embed=False):\n",
    "    grid = GridspecLayout(len(experiments), 3)\n",
    "\n",
    "    for i, experiment_folder in enumerate(experiments):\n",
    "        input_video = f'./{experiment_folder}/rgb_converted.mp4'\n",
    "        if not os.path.exists(input_video):\n",
    "            os.system(f\"ffmpeg -i ./{experiment_folder}/rgb.mp4 -vcodec libx264 -acodec aac ./{experiment_folder}/rgb_converted.mp4\")\n",
    "        output_video = f'./{experiment_folder}/output/output.mp4'\n",
    "        assert(os.path.exists(input_video))\n",
    "        assert(os.path.exists(output_video))\n",
    "        \n",
    "        out = Output()\n",
    "        with out:\n",
    "            props = parse_experiment_parameters(experiment_folder)\n",
    "            prop_str = \", \". join(f\"*{k}* = {v}\" for k, v in props.items())\n",
    "            with open(f'./{experiment_folder}/output/output.txt') as f:\n",
    "                prompt = f.read()\n",
    "            display.display(display.Markdown(prop_str + f\"\\n\\n*prompt*={prompt}\"))\n",
    "        grid[i, 0] = out\n",
    "        \n",
    "        out = Output()\n",
    "        with out:\n",
    "            display.display(display.Video(input_video, embed=embed))\n",
    "        grid[i, 1] = out\n",
    "        out = Output()\n",
    "        with out:\n",
    "            display.display(display.Video(output_video, embed=embed))\n",
    "        grid[i, 2] = out\n",
    "    return grid\n",
    "        \n",
    "experiment_folders = ['2024_08_15__19_55_49_0_4_2_full',\n",
    " '2024_08_15__19_55_49_6000_4_2_full',\n",
    " '2024_08_15__19_55_49_0_4_4_full',\n",
    " '2024_08_15__19_55_49_6000_4_4_full',\n",
    " '2024_08_15__19_55_49_0_4_8_full',\n",
    " '2024_08_15__19_55_49_6000_4_8_full',\n",
    " '2024_08_15__19_55_49_0_30_2_full',\n",
    " '2024_08_15__19_55_49_6000_30_2_full',\n",
    " '2024_08_15__19_55_49_0_30_4_full',\n",
    " '2024_08_15__19_55_49_6000_30_4_full',\n",
    " '2024_08_15__19_55_49_0_30_8_full',\n",
    " '2024_08_15__19_55_49_6000_30_8_full',\n",
    " '2024_08_15__19_55_49_12000_4_2_full',\n",
    " '2024_08_15__19_55_49_12000_4_4_full',\n",
    " '2024_08_15__19_55_49_12000_4_8_full',\n",
    " '2024_08_15__19_55_49_12000_30_2_full',\n",
    " '2024_08_15__19_55_49_12000_30_4_full',\n",
    " '2024_08_15__19_55_49_12000_30_8_full',\n",
    " '2024_08_15__19_55_49_18000_4_2_full',\n",
    " '2024_08_15__19_55_49_18000_4_4_full',\n",
    " '2024_08_15__19_55_49_18000_4_8_full',\n",
    " '2024_08_15__19_55_49_18000_30_2_full',\n",
    " '2024_08_15__19_55_49_18000_30_4_full',\n",
    " '2024_08_15__19_55_49_18000_30_8_full']"
   ]
  },
  {
   "cell_type": "code",
   "execution_count": null,
   "id": "2fa11926",
   "metadata": {},
   "outputs": [],
   "source": [
    "def export_experiments(experiments, out_html, pad=False, title=None):\n",
    "    with open(out_html, 'a' if pad else 'w') as f:\n",
    "        print('''<table><thead>  <meta charset=\"UTF-8\"><style>\n",
    "            table {\n",
    "            width: 100vw;\n",
    "            height: 100vh;\n",
    "            border-collapse: collapse;\n",
    "            table-layout: fixed; /* Ensures equal-width columns */\n",
    "            }\n",
    "\n",
    "            td {\n",
    "            border: 1px solid #ccc;\n",
    "            width: 50%; /* Adjust as needed */\n",
    "            height: auto;\n",
    "            padding: 10px;\n",
    "            vertical-align: top;\n",
    "            }\n",
    "\n",
    "            .video-container {\n",
    "            position: relative;\n",
    "            width: 100%;\n",
    "            padding-top: 56.25%; /* 16:9 aspect ratio */\n",
    "            }\n",
    "\n",
    "            .video-container iframe,\n",
    "            .video-container video {\n",
    "            position: absolute;\n",
    "            top: 0;\n",
    "            left: 0;\n",
    "            width: 100%;\n",
    "            height: 100%;\n",
    "            }</style>''', file=f)\n",
    "        if title is not None:\n",
    "            print(f'<h1 style=\"text-align:center;\">{title}</h1>', file=f)\n",
    "        print('<tr><th>Info</th><th>Input</th><th>Output</th></tr></thead>', file=f)\n",
    "        print('<tbody>', file=f)\n",
    "        for experiment_folder in experiments:\n",
    "            print('<tr>', file=f)\n",
    "            input_video = f'./{experiment_folder}/rgb_converted.mp4'\n",
    "            if not os.path.exists(input_video):\n",
    "                os.system(f\"ffmpeg -i ./{experiment_folder}/rgb.mp4 -vcodec libx264 -acodec aac ./{experiment_folder}/rgb_converted.mp4\")\n",
    "            output_video = f'./{experiment_folder}/output/output.mp4'\n",
    "            assert(os.path.exists(input_video))\n",
    "            assert(os.path.exists(output_video))\n",
    "            \n",
    "            props = parse_experiment_parameters(experiment_folder)\n",
    "            prop_str = \", \". join(f\"<i>{k}</i> = {v}\" for k, v in props.items())\n",
    "            with open(f'./{experiment_folder}/output/output.txt') as _f:\n",
    "                prompt = _f.read()\n",
    "                \n",
    "            param_str = prop_str + f\"</p><p><i>prompt</i>={prompt}\" # markdown\n",
    "            \n",
    "            # table line with 3 items\n",
    "            item_str = f'<td><p>{param_str}</p></td>'\n",
    "            print(item_str, file=f)\n",
    "            item_str = f'<td><div class=\"video-container\"><video controls><source src={input_video} type=\"video/mp4\"></video></div></td>'\n",
    "            print(item_str, file=f)\n",
    "            item_str = f'<td><div class=\"video-container\"><video controls><source src={output_video} type=\"video/mp4\"></video></div></td>'\n",
    "            print(item_str, file=f)\n",
    "            print('</tr>', file=f)\n",
    "        print('</tbody>', file=f)\n",
    "\n",
    "is_first = True\n",
    "for fps in [30, 4]:\n",
    "    for duration in [2, 4, 8]:\n",
    "        export_experiments(select_experiment(experiment_folders, {\"fps\": [fps], \"duration\": [duration]}), 'CosmosTransferReport.html',\n",
    "                           title=f'<i>fps</i>={fps}, <i>duration</i>={duration}',\n",
    "                           pad=not is_first)\n",
    "        is_first = False\n"
   ]
  },
  {
   "cell_type": "code",
   "execution_count": 9,
   "id": "ecdb95fa",
   "metadata": {},
   "outputs": [
    {
     "data": {
      "application/vnd.jupyter.widget-view+json": {
       "model_id": "c6cfb9aa30c84389adb71a571b25a1cf",
       "version_major": 2,
       "version_minor": 0
      },
      "text/plain": [
       "GridspecLayout(children=(Output(layout=Layout(grid_area='widget001')), Output(layout=Layout(grid_area='widget0…"
      ]
     },
     "execution_count": 9,
     "metadata": {},
     "output_type": "execute_result"
    }
   ],
   "source": [
    "# results on 30 fps, short-length videos (2s)\n",
    "#fine \n",
    "present_experiments(select_experiment(experiment_folders, {\"fps\": [30], \"duration\": [2]}), embed=True)"
   ]
  },
  {
   "cell_type": "code",
   "execution_count": 10,
   "id": "e3bdde33",
   "metadata": {},
   "outputs": [
    {
     "data": {
      "application/vnd.jupyter.widget-view+json": {
       "model_id": "e9c3c68110b74344a03fba5bc1f97812",
       "version_major": 2,
       "version_minor": 0
      },
      "text/plain": [
       "GridspecLayout(children=(Output(layout=Layout(grid_area='widget001')), Output(layout=Layout(grid_area='widget0…"
      ]
     },
     "execution_count": 10,
     "metadata": {},
     "output_type": "execute_result"
    }
   ],
   "source": [
    "# results on 30 fps, medium-length videos (4s)\n",
    "# fine\n",
    "present_experiments(select_experiment(experiment_folders, {\"fps\": [30], \"duration\": [4]}), embed=True)"
   ]
  },
  {
   "cell_type": "code",
   "execution_count": 11,
   "id": "7c502b3f",
   "metadata": {},
   "outputs": [
    {
     "data": {
      "application/vnd.jupyter.widget-view+json": {
       "model_id": "767b594477534b9ca68ab2f2e121ce19",
       "version_major": 2,
       "version_minor": 0
      },
      "text/plain": [
       "GridspecLayout(children=(Output(layout=Layout(grid_area='widget001')), Output(layout=Layout(grid_area='widget0…"
      ]
     },
     "execution_count": 11,
     "metadata": {},
     "output_type": "execute_result"
    }
   ],
   "source": [
    "# results on 30 fps, large-length videos (8s)\n",
    "# hallucinations happens\n",
    "present_experiments(select_experiment(experiment_folders, {\"fps\": [30], \"duration\": [8]}), embed=True)"
   ]
  },
  {
   "cell_type": "code",
   "execution_count": 12,
   "id": "b5253f80",
   "metadata": {},
   "outputs": [
    {
     "data": {
      "application/vnd.jupyter.widget-view+json": {
       "model_id": "26eeace695dd48b4a5cdd971e91e6121",
       "version_major": 2,
       "version_minor": 0
      },
      "text/plain": [
       "GridspecLayout(children=(Output(layout=Layout(grid_area='widget001')), Output(layout=Layout(grid_area='widget0…"
      ]
     },
     "execution_count": 12,
     "metadata": {},
     "output_type": "execute_result"
    }
   ],
   "source": [
    "# results on 4 fps, short-length videos (2s)\n",
    "present_experiments(select_experiment(experiment_folders, {\"fps\": [4], \"duration\": [2]}), embed=True)"
   ]
  },
  {
   "cell_type": "code",
   "execution_count": 13,
   "id": "49c16848",
   "metadata": {},
   "outputs": [
    {
     "data": {
      "application/vnd.jupyter.widget-view+json": {
       "model_id": "78c6f5c834ef469d80c6cdbe4bd87234",
       "version_major": 2,
       "version_minor": 0
      },
      "text/plain": [
       "GridspecLayout(children=(Output(layout=Layout(grid_area='widget001')), Output(layout=Layout(grid_area='widget0…"
      ]
     },
     "execution_count": 13,
     "metadata": {},
     "output_type": "execute_result"
    }
   ],
   "source": [
    "# results on 4 fps, medium-length videos (4s)\n",
    "present_experiments(select_experiment(experiment_folders, {\"fps\": [4], \"duration\": [4]}), embed=True)"
   ]
  },
  {
   "cell_type": "code",
   "execution_count": 14,
   "id": "5f791bb9",
   "metadata": {},
   "outputs": [
    {
     "data": {
      "application/vnd.jupyter.widget-view+json": {
       "model_id": "31c12f9d41bf424285547cad3cb9360c",
       "version_major": 2,
       "version_minor": 0
      },
      "text/plain": [
       "GridspecLayout(children=(Output(layout=Layout(grid_area='widget001')), Output(layout=Layout(grid_area='widget0…"
      ]
     },
     "execution_count": 14,
     "metadata": {},
     "output_type": "execute_result"
    }
   ],
   "source": [
    "# results on 4 fps, large-length videos (8s)\n",
    "present_experiments(select_experiment(experiment_folders, {\"fps\": [4], \"duration\": [8]}), embed=True)"
   ]
  }
 ],
 "metadata": {
  "kernelspec": {
   "display_name": "ego_walk",
   "language": "python",
   "name": "python3"
  },
  "language_info": {
   "codemirror_mode": {
    "name": "ipython",
    "version": 3
   },
   "file_extension": ".py",
   "mimetype": "text/x-python",
   "name": "python",
   "nbconvert_exporter": "python",
   "pygments_lexer": "ipython3",
   "version": "3.11.11"
  }
 },
 "nbformat": 4,
 "nbformat_minor": 5
}
