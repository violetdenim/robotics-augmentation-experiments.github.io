{
 "cells": [
  {
   "cell_type": "code",
   "execution_count": null,
   "id": "3378488d",
   "metadata": {},
   "outputs": [
    {
     "data": {
      "application/vnd.jupyter.widget-view+json": {
       "model_id": "f0e0e046b9b94334afcf21704b4e5200",
       "version_major": 2,
       "version_minor": 0
      },
      "text/plain": [
       "GridspecLayout(children=(Output(layout=Layout(grid_area='widget001')), Output(layout=Layout(grid_area='widget0…"
      ]
     },
     "execution_count": 24,
     "metadata": {},
     "output_type": "execute_result"
    }
   ],
   "source": [
    "import os\n",
    "from ipywidgets import Output, GridspecLayout\n",
    "from IPython import display\n",
    "\n",
    "def parse_experiment_parameters(experiment_folder):\n",
    "    start_frame, fps, duration = map(int, experiment_folder.split('_')[-4:-1])\n",
    "    return {\"start_frame\": start_frame, \"fps\": fps, \"duration\": duration}\n",
    "\n",
    "def select_experiment(experiment_folders, fields_and_values):\n",
    "    selection = []\n",
    "    for experiment_folder in experiment_folders:\n",
    "        params = parse_experiment_parameters(experiment_folder)\n",
    "        is_fine = True\n",
    "        for field, normal_values_list in fields_and_values.items():\n",
    "            if params[field] not in normal_values_list:\n",
    "                is_fine = False\n",
    "                break\n",
    "        if is_fine:\n",
    "            selection.append(experiment_folder)\n",
    "    return selection\n",
    "            \n",
    "            \n",
    "\n",
    "def present_experiments(experiments, embed=False):\n",
    "    grid = GridspecLayout(len(experiments), 3)\n",
    "\n",
    "    for i, experiment_folder in enumerate(experiments):\n",
    "        input_video = f'../{experiment_folder}/rgb_converted.mp4'\n",
    "        if not os.path.exists(input_video):\n",
    "            os.system(f\"ffmpeg -i ../{experiment_folder}/rgb.mp4 -vcodec libx264 -acodec aac ../{experiment_folder}/rgb_converted.mp4\")\n",
    "        output_video = f'../{experiment_folder}/output/output.mp4'\n",
    "        assert(os.path.exists(input_video))\n",
    "        assert(os.path.exists(output_video))\n",
    "        \n",
    "        out = Output()\n",
    "        with out:\n",
    "            props = parse_experiment_parameters(experiment_folder)\n",
    "            prop_str = \", \". join(f\"*{k}* = {v}\" for k, v in props.items())\n",
    "            with open(f'../{experiment_folder}/output/output.txt') as f:\n",
    "                prompt = f.read()\n",
    "            display.display(display.Markdown(prop_str + f\"\\n\\n*prompt*={prompt}\"))\n",
    "        grid[i, 0] = out\n",
    "        \n",
    "        out = Output()\n",
    "        with out:\n",
    "            display.display(display.Video(input_video, embed=embed))\n",
    "        grid[i, 1] = out\n",
    "        out = Output()\n",
    "        with out:\n",
    "            display.display(display.Video(output_video, embed=embed))\n",
    "        grid[i, 2] = out\n",
    "    return grid\n",
    "        \n",
    "experiment_folders = ['2024_08_15__19_55_49_0_4_2_full',\n",
    " '2024_08_15__19_55_49_6000_4_2_full',\n",
    " '2024_08_15__19_55_49_0_4_4_full',\n",
    " '2024_08_15__19_55_49_6000_4_4_full',\n",
    " '2024_08_15__19_55_49_0_4_8_full',\n",
    " '2024_08_15__19_55_49_6000_4_8_full',\n",
    " '2024_08_15__19_55_49_0_30_2_full',\n",
    " '2024_08_15__19_55_49_6000_30_2_full',\n",
    " '2024_08_15__19_55_49_0_30_4_full',\n",
    " '2024_08_15__19_55_49_6000_30_4_full',\n",
    " '2024_08_15__19_55_49_0_30_8_full',\n",
    " '2024_08_15__19_55_49_6000_30_8_full',\n",
    " '2024_08_15__19_55_49_12000_4_2_full',\n",
    " '2024_08_15__19_55_49_12000_4_4_full',\n",
    " '2024_08_15__19_55_49_12000_4_8_full',\n",
    " '2024_08_15__19_55_49_12000_30_2_full',\n",
    " '2024_08_15__19_55_49_12000_30_4_full',\n",
    " '2024_08_15__19_55_49_12000_30_8_full',\n",
    " '2024_08_15__19_55_49_18000_4_2_full',\n",
    " '2024_08_15__19_55_49_18000_4_4_full',\n",
    " '2024_08_15__19_55_49_18000_4_8_full',\n",
    " '2024_08_15__19_55_49_18000_30_2_full',\n",
    " '2024_08_15__19_55_49_18000_30_4_full',\n",
    " '2024_08_15__19_55_49_18000_30_8_full']"
   ]
  },
  {
   "cell_type": "code",
   "execution_count": null,
   "id": "ecdb95fa",
   "metadata": {},
   "outputs": [],
   "source": [
    "# results on 30 fps, short-length videos (2s)\n",
    "present_experiments(select_experiment(experiment_folders, {\"fps\": [30], \"duration\": [2]}), embed=True)"
   ]
  },
  {
   "cell_type": "code",
   "execution_count": null,
   "id": "e3bdde33",
   "metadata": {},
   "outputs": [],
   "source": [
    "# results on 30 fps, medium-length videos (4s)\n",
    "present_experiments(select_experiment(experiment_folders, {\"fps\": [30], \"duration\": [4]}), embed=True)"
   ]
  },
  {
   "cell_type": "code",
   "execution_count": null,
   "id": "7c502b3f",
   "metadata": {},
   "outputs": [],
   "source": [
    "# results on 30 fps, large-length videos (8s)\n",
    "present_experiments(select_experiment(experiment_folders, {\"fps\": [30], \"duration\": [8]}), embed=True)"
   ]
  },
  {
   "cell_type": "code",
   "execution_count": null,
   "id": "b5253f80",
   "metadata": {},
   "outputs": [],
   "source": [
    "# results on 4 fps, short-length videos (2s)\n",
    "present_experiments(select_experiment(experiment_folders, {\"fps\": [4], \"duration\": [2]}), embed=True)"
   ]
  },
  {
   "cell_type": "code",
   "execution_count": null,
   "id": "49c16848",
   "metadata": {},
   "outputs": [],
   "source": [
    "# results on 4 fps, medium-length videos (4s)\n",
    "present_experiments(select_experiment(experiment_folders, {\"fps\": [4], \"duration\": [4]}), embed=True)"
   ]
  },
  {
   "cell_type": "code",
   "execution_count": null,
   "id": "5f791bb9",
   "metadata": {},
   "outputs": [],
   "source": [
    "# results on 4 fps, large-length videos (8s)\n",
    "present_experiments(select_experiment(experiment_folders, {\"fps\": [4], \"duration\": [8]}), embed=True)"
   ]
  }
 ],
 "metadata": {
  "kernelspec": {
   "display_name": "ego_walk",
   "language": "python",
   "name": "python3"
  },
  "language_info": {
   "codemirror_mode": {
    "name": "ipython",
    "version": 3
   },
   "file_extension": ".py",
   "mimetype": "text/x-python",
   "name": "python",
   "nbconvert_exporter": "python",
   "pygments_lexer": "ipython3",
   "version": "3.11.11"
  }
 },
 "nbformat": 4,
 "nbformat_minor": 5
}
